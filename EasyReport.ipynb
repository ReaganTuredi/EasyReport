{
 "cells": [
  {
   "cell_type": "code",
   "execution_count": 245,
   "metadata": {
    "scrolled": true
   },
   "outputs": [],
   "source": [
    "import pandas as pd\n",
    "import matplotlib.pyplot as plt\n",
    "import numpy as np\n",
    "import seaborn as sns\n",
    "df=pd.read_csv('recent-games.csv')\n",
    "kills=df['kills']\n",
    "deaths=df['deaths']\n",
    "accuracy=df['accuracy']\n",
    "result=df['result']\n",
    "not_cheating=df[0:499]\n",
    "cheating=df[499:1000]"
   ]
  },
  {
   "cell_type": "markdown",
   "metadata": {},
   "source": [
    "#  The data frame is showing us kills, deaths and accuracy. The \"result\" column is a 0 for not cheating, and 1 for cheating. These are known values, and are what we will use to train a program to make a determination (based on new inputs) whether or not an individual was cheating."
   ]
  },
  {
   "cell_type": "code",
   "execution_count": 116,
   "metadata": {},
   "outputs": [
    {
     "data": {
      "text/html": [
       "<div>\n",
       "<style scoped>\n",
       "    .dataframe tbody tr th:only-of-type {\n",
       "        vertical-align: middle;\n",
       "    }\n",
       "\n",
       "    .dataframe tbody tr th {\n",
       "        vertical-align: top;\n",
       "    }\n",
       "\n",
       "    .dataframe thead th {\n",
       "        text-align: right;\n",
       "    }\n",
       "</style>\n",
       "<table border=\"1\" class=\"dataframe\">\n",
       "  <thead>\n",
       "    <tr style=\"text-align: right;\">\n",
       "      <th></th>\n",
       "      <th>kills</th>\n",
       "      <th>deaths</th>\n",
       "      <th>accuracy</th>\n",
       "      <th>result</th>\n",
       "    </tr>\n",
       "  </thead>\n",
       "  <tbody>\n",
       "    <tr>\n",
       "      <td>0</td>\n",
       "      <td>9</td>\n",
       "      <td>2</td>\n",
       "      <td>85</td>\n",
       "      <td>0</td>\n",
       "    </tr>\n",
       "    <tr>\n",
       "      <td>1</td>\n",
       "      <td>19</td>\n",
       "      <td>10</td>\n",
       "      <td>85</td>\n",
       "      <td>0</td>\n",
       "    </tr>\n",
       "    <tr>\n",
       "      <td>2</td>\n",
       "      <td>14</td>\n",
       "      <td>3</td>\n",
       "      <td>72</td>\n",
       "      <td>0</td>\n",
       "    </tr>\n",
       "    <tr>\n",
       "      <td>3</td>\n",
       "      <td>7</td>\n",
       "      <td>7</td>\n",
       "      <td>84</td>\n",
       "      <td>0</td>\n",
       "    </tr>\n",
       "    <tr>\n",
       "      <td>4</td>\n",
       "      <td>17</td>\n",
       "      <td>9</td>\n",
       "      <td>70</td>\n",
       "      <td>0</td>\n",
       "    </tr>\n",
       "    <tr>\n",
       "      <td>...</td>\n",
       "      <td>...</td>\n",
       "      <td>...</td>\n",
       "      <td>...</td>\n",
       "      <td>...</td>\n",
       "    </tr>\n",
       "    <tr>\n",
       "      <td>995</td>\n",
       "      <td>75</td>\n",
       "      <td>70</td>\n",
       "      <td>99</td>\n",
       "      <td>1</td>\n",
       "    </tr>\n",
       "    <tr>\n",
       "      <td>996</td>\n",
       "      <td>54</td>\n",
       "      <td>52</td>\n",
       "      <td>100</td>\n",
       "      <td>1</td>\n",
       "    </tr>\n",
       "    <tr>\n",
       "      <td>997</td>\n",
       "      <td>74</td>\n",
       "      <td>33</td>\n",
       "      <td>100</td>\n",
       "      <td>1</td>\n",
       "    </tr>\n",
       "    <tr>\n",
       "      <td>998</td>\n",
       "      <td>61</td>\n",
       "      <td>67</td>\n",
       "      <td>98</td>\n",
       "      <td>1</td>\n",
       "    </tr>\n",
       "    <tr>\n",
       "      <td>999</td>\n",
       "      <td>88</td>\n",
       "      <td>44</td>\n",
       "      <td>99</td>\n",
       "      <td>1</td>\n",
       "    </tr>\n",
       "  </tbody>\n",
       "</table>\n",
       "<p>1000 rows × 4 columns</p>\n",
       "</div>"
      ],
      "text/plain": [
       "     kills  deaths  accuracy  result\n",
       "0        9       2        85       0\n",
       "1       19      10        85       0\n",
       "2       14       3        72       0\n",
       "3        7       7        84       0\n",
       "4       17       9        70       0\n",
       "..     ...     ...       ...     ...\n",
       "995     75      70        99       1\n",
       "996     54      52       100       1\n",
       "997     74      33       100       1\n",
       "998     61      67        98       1\n",
       "999     88      44        99       1\n",
       "\n",
       "[1000 rows x 4 columns]"
      ]
     },
     "execution_count": 116,
     "metadata": {},
     "output_type": "execute_result"
    }
   ],
   "source": [
    "df"
   ]
  },
  {
   "cell_type": "markdown",
   "metadata": {},
   "source": [
    "# If we look at the data visually, we can see that the distribution for the player that was cheating is far more random compared to one that was not. You can clearly see that a separation occurs between the two. The statistical distribution for players who cheat is randomized, and has distinct visual classifications. For those who do not, there is an obvious relationship."
   ]
  },
  {
   "cell_type": "code",
   "execution_count": 117,
   "metadata": {},
   "outputs": [
    {
     "data": {
      "image/png": "[encoded data removed]",
      "text/plain": [
       "<Figure size 432x288 with 1 Axes>"
      ]
     },
     "metadata": {},
     "output_type": "display_data"
    }
   ],
   "source": [
    "plt.scatter(kills,deaths)\n",
    "sns.set()"
   ]
  },
  {
   "cell_type": "markdown",
   "metadata": {},
   "source": [
    "# This separation is much more visible when looking at accuracy."
   ]
  },
  {
   "cell_type": "code",
   "execution_count": 121,
   "metadata": {},
   "outputs": [
    {
     "data": {
      "image/png": "[encoded data removed]",
      "text/plain": [
       "<Figure size 432x288 with 1 Axes>"
      ]
     },
     "metadata": {},
     "output_type": "display_data"
    }
   ],
   "source": [
    "plt.plot(accuracy)\n",
    "sns.set()"
   ]
  },
  {
   "cell_type": "markdown",
   "metadata": {},
   "source": [
    "# We are using kills and deaths to make our first determination. We can use importable libraries to do the harder work for us. This makes things much more simple."
   ]
  },
  {
   "cell_type": "code",
   "execution_count": 244,
   "metadata": {},
   "outputs": [
    {
     "name": "stdout",
     "output_type": "stream",
     "text": [
      "The accuracy of the test data is 100.0 %\n"
     ]
    }
   ],
   "source": [
    "kda=df[df.columns[0:3]].to_numpy()\n",
    "from sklearn.model_selection import train_test_split\n",
    "from scipy.spatial import distance\n",
    "\n",
    "X_train, X_test, y_train, y_test=train_test_split(kda, result, train_size=0.99,test_size=0.01, \n",
    "                                                   random_state=1)\n",
    "\n",
    "\n",
    "class kNN():\n",
    "    def __init__(self,k):\n",
    "        self.k=k\n",
    "    def get_train_data(self,train_features,train_labels):\n",
    "        self.train_features=train_features\n",
    "        self.labels=train_labels\n",
    "\n",
    "    \n",
    "    def predict(self,X_test):\n",
    "        predictions=[]\n",
    "        for i in (X_test):\n",
    "            distances=[]\n",
    "            for j in (self.train_features):\n",
    "                temp=distance.euclidean(i,j)\n",
    "                distances.append(temp)\n",
    "            a=np.argsort(distances)\n",
    "            a_0_5=(a[0:self.k])\n",
    "            s=self.labels[a_0_5]\n",
    "            s=list(s)\n",
    "            max_temp=max(set(s),key=s.count)\n",
    "            \n",
    "            predictions.append(max_temp)\n",
    "            \n",
    "        return predictions\n",
    "            \n",
    "K=kNN(k=500)\n",
    "\n",
    "K.get_train_data(X_train,y_train)\n",
    "\n",
    "K.predict(X_test)\n",
    "\n",
    "Key=K.predict(X_test)\n",
    "\n",
    "from sklearn.metrics import accuracy_score\n",
    "acc=accuracy_score(y_test, Key)\n",
    "print('The accuracy of the test data is',acc*100,'%')"
   ]
  },
  {
   "cell_type": "markdown",
   "metadata": {},
   "source": [
    "# Showing results. "
   ]
  },
  {
   "cell_type": "code",
   "execution_count": 243,
   "metadata": {},
   "outputs": [
    {
     "name": "stdout",
     "output_type": "stream",
     "text": [
      "               0   1    2\n",
      "Cheating      69  61   97\n",
      "Cheating      83  67  100\n",
      "Not Cheating  24  15   86\n",
      "Not Cheating   1   4   77\n",
      "Not Cheating  11   4   84\n",
      "Cheating      84  61  100\n",
      "Not Cheating   7  12   88\n",
      "Cheating      80  56   96\n",
      "Not Cheating   5   7   65\n",
      "Not Cheating  16  16   70\n"
     ]
    }
   ],
   "source": [
    "Final=pd.DataFrame(X_test,Key)\n",
    "#Final[1]\n",
    "#Final=Final.shift(periods=1, axis=0)\n",
    "Final=Final.rename(index={0: \"Not Cheating\", 1: \"Cheating\"})\n",
    "with pd.option_context('display.max_rows', None, 'display.max_columns', None): \n",
    "    print(Final)"
   ]
  },
  {
   "cell_type": "markdown",
   "metadata": {},
   "source": [
    "# Application"
   ]
  },
  {
   "cell_type": "markdown",
   "metadata": {},
   "source": [
    "# If someone is suspected of cheating, their game statistics are passed as a new input. If \"x\" percent of games show up as possible instances of cheating, their accounts are immediately flagged. This streamlines the report process. A security team cannot look at every account that is reported, but they CAN look at flagged accounts from a computer program."
   ]
  },
  {
   "cell_type": "code",
   "execution_count": null,
   "metadata": {},
   "outputs": [],
   "source": []
  }
 ],
 "metadata": {
  "kernelspec": {
   "display_name": "Python 3",
   "language": "python",
   "name": "python3"
  },
  "language_info": {
   "codemirror_mode": {
    "name": "ipython",
    "version": 3
   },
   "file_extension": ".py",
   "mimetype": "text/x-python",
   "name": "python",
   "nbconvert_exporter": "python",
   "pygments_lexer": "ipython3",
   "version": "3.7.4"
  }
 },
 "nbformat": 4,
 "nbformat_minor": 2
}
